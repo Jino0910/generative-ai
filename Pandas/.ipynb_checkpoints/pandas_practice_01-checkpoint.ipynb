{
 "cells": [
  {
   "cell_type": "code",
   "execution_count": 2,
   "id": "ca0e9acd-2727-40bb-8a96-506df1eb96b1",
   "metadata": {},
   "outputs": [],
   "source": [
    "import numpy as np\n",
    "import pandas as pd"
   ]
  },
  {
   "cell_type": "markdown",
   "id": "d6e450a7-89eb-41ac-94e0-917870867189",
   "metadata": {},
   "source": [
    "# Create Data Frame"
   ]
  },
  {
   "cell_type": "code",
   "execution_count": null,
   "id": "124caba8-ec75-4ebb-b595-0393d0af1edd",
   "metadata": {},
   "outputs": [],
   "source": [
    "data = {'Name': ['S1','S2','S3'],\n",
    "        'Age': [25,28,22],\n",
    "        'Score': np.array([95,8"
   ]
  }
 ],
 "metadata": {
  "kernelspec": {
   "display_name": "Python 3 (ipykernel)",
   "language": "python",
   "name": "python3"
  },
  "language_info": {
   "codemirror_mode": {
    "name": "ipython",
    "version": 3
   },
   "file_extension": ".py",
   "mimetype": "text/x-python",
   "name": "python",
   "nbconvert_exporter": "python",
   "pygments_lexer": "ipython3",
   "version": "3.11.2"
  }
 },
 "nbformat": 4,
 "nbformat_minor": 5
}
